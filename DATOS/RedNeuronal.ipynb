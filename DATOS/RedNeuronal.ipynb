{
 "cells": [
  {
   "cell_type": "code",
   "execution_count": 2,
   "metadata": {},
   "outputs": [],
   "source": [
    "import numpy as np\n",
    "import matplotlib.pyplot as plt\n",
    "import pandas as pd"
   ]
  },
  {
   "cell_type": "code",
   "execution_count": 48,
   "metadata": {},
   "outputs": [],
   "source": [
    "dataset = pd.read_csv('./CompleteDataset.csv')\n",
    "X = dataset.iloc[:, :15].values\n",
    "y = dataset.iloc[:, 15].values"
   ]
  },
  {
   "cell_type": "code",
   "execution_count": 49,
   "metadata": {},
   "outputs": [],
   "source": [
    "from sklearn.model_selection import train_test_split\n",
    "X_train, X_test, y_train, y_test = train_test_split(X, y, test_size = 0.2, random_state = 0)"
   ]
  },
  {
   "cell_type": "code",
   "execution_count": 50,
   "metadata": {},
   "outputs": [],
   "source": [
    "from sklearn.preprocessing import StandardScaler\n",
    "sc_X = StandardScaler()\n",
    "X_train = sc_X.fit_transform(X_train)\n",
    "X_test = sc_X.transform(X_test)"
   ]
  },
  {
   "cell_type": "code",
   "execution_count": 33,
   "metadata": {},
   "outputs": [],
   "source": [
    "import keras\n",
    "from keras.models import Sequential\n",
    "from keras.layers import Dense"
   ]
  },
  {
   "cell_type": "code",
   "execution_count": 51,
   "metadata": {},
   "outputs": [],
   "source": [
    "classifier = Sequential()"
   ]
  },
  {
   "cell_type": "code",
   "execution_count": 52,
   "metadata": {},
   "outputs": [],
   "source": [
    "classifier.add(Dense(units = 12, kernel_initializer = \"uniform\",  \n",
    "                     activation = \"sigmoid\", input_dim = 15))"
   ]
  },
  {
   "cell_type": "code",
   "execution_count": 53,
   "metadata": {},
   "outputs": [],
   "source": [
    "classifier.add(Dense(units = 6, kernel_initializer = \"uniform\",  activation = \"relu\"))"
   ]
  },
  {
   "cell_type": "code",
   "execution_count": 54,
   "metadata": {},
   "outputs": [],
   "source": [
    "classifier.add(Dense(units = 1, kernel_initializer = \"uniform\",  activation = \"sigmoid\"))"
   ]
  },
  {
   "cell_type": "code",
   "execution_count": 55,
   "metadata": {},
   "outputs": [],
   "source": [
    "classifier.compile(optimizer = \"adam\", loss = \"binary_crossentropy\", metrics = [\"accuracy\"])"
   ]
  },
  {
   "cell_type": "code",
   "execution_count": 56,
   "metadata": {},
   "outputs": [
    {
     "name": "stdout",
     "output_type": "stream",
     "text": [
      "Epoch 1/100\n",
      "434/434 [==============================] - 1s 1ms/step - loss: 0.4886 - accuracy: 0.8145\n",
      "Epoch 2/100\n",
      "434/434 [==============================] - 1s 3ms/step - loss: 0.1488 - accuracy: 0.9562\n",
      "Epoch 3/100\n",
      "434/434 [==============================] - 2s 4ms/step - loss: 0.1183 - accuracy: 0.9606\n",
      "Epoch 4/100\n",
      "434/434 [==============================] - 1s 2ms/step - loss: 0.1110 - accuracy: 0.9627\n",
      "Epoch 5/100\n",
      "434/434 [==============================] - 2s 4ms/step - loss: 0.1071 - accuracy: 0.9637\n",
      "Epoch 6/100\n",
      "434/434 [==============================] - 1s 2ms/step - loss: 0.1042 - accuracy: 0.9650\n",
      "Epoch 7/100\n",
      "434/434 [==============================] - 2s 5ms/step - loss: 0.1029 - accuracy: 0.9664\n",
      "Epoch 8/100\n",
      "434/434 [==============================] - 1s 2ms/step - loss: 0.1012 - accuracy: 0.9667\n",
      "Epoch 9/100\n",
      "434/434 [==============================] - 1s 2ms/step - loss: 0.1002 - accuracy: 0.9691\n",
      "Epoch 10/100\n",
      "434/434 [==============================] - 2s 4ms/step - loss: 0.0990 - accuracy: 0.9685\n",
      "Epoch 11/100\n",
      "434/434 [==============================] - 1s 3ms/step - loss: 0.0979 - accuracy: 0.9689\n",
      "Epoch 12/100\n",
      "434/434 [==============================] - 2s 4ms/step - loss: 0.0978 - accuracy: 0.9694\n",
      "Epoch 13/100\n",
      "434/434 [==============================] - 2s 4ms/step - loss: 0.0972 - accuracy: 0.9698\n",
      "Epoch 14/100\n",
      "434/434 [==============================] - 1s 2ms/step - loss: 0.0967 - accuracy: 0.9689\n",
      "Epoch 15/100\n",
      "434/434 [==============================] - 2s 4ms/step - loss: 0.0963 - accuracy: 0.9712\n",
      "Epoch 16/100\n",
      "434/434 [==============================] - 1s 2ms/step - loss: 0.0956 - accuracy: 0.9710\n",
      "Epoch 17/100\n",
      "434/434 [==============================] - 1s 3ms/step - loss: 0.0956 - accuracy: 0.9696\n",
      "Epoch 18/100\n",
      "434/434 [==============================] - 1s 3ms/step - loss: 0.0957 - accuracy: 0.9714\n",
      "Epoch 19/100\n",
      "434/434 [==============================] - 2s 3ms/step - loss: 0.0952 - accuracy: 0.9702\n",
      "Epoch 20/100\n",
      "434/434 [==============================] - 1s 2ms/step - loss: 0.0950 - accuracy: 0.9710\n",
      "Epoch 21/100\n",
      "434/434 [==============================] - 1s 3ms/step - loss: 0.0948 - accuracy: 0.9716\n",
      "Epoch 22/100\n",
      "434/434 [==============================] - 1s 3ms/step - loss: 0.0945 - accuracy: 0.9694\n",
      "Epoch 23/100\n",
      "434/434 [==============================] - 1s 3ms/step - loss: 0.0940 - accuracy: 0.9704\n",
      "Epoch 24/100\n",
      "434/434 [==============================] - 1s 2ms/step - loss: 0.0938 - accuracy: 0.9708\n",
      "Epoch 25/100\n",
      "434/434 [==============================] - 1s 3ms/step - loss: 0.0936 - accuracy: 0.9717\n",
      "Epoch 26/100\n",
      "434/434 [==============================] - 1s 2ms/step - loss: 0.0927 - accuracy: 0.9721\n",
      "Epoch 27/100\n",
      "434/434 [==============================] - 1s 3ms/step - loss: 0.0929 - accuracy: 0.9719\n",
      "Epoch 28/100\n",
      "434/434 [==============================] - 1s 3ms/step - loss: 0.0922 - accuracy: 0.9716\n",
      "Epoch 29/100\n",
      "434/434 [==============================] - 1s 3ms/step - loss: 0.0919 - accuracy: 0.9716\n",
      "Epoch 30/100\n",
      "434/434 [==============================] - 2s 3ms/step - loss: 0.0912 - accuracy: 0.9717\n",
      "Epoch 31/100\n",
      "434/434 [==============================] - 2s 4ms/step - loss: 0.0905 - accuracy: 0.9731\n",
      "Epoch 32/100\n",
      "434/434 [==============================] - 1s 3ms/step - loss: 0.0904 - accuracy: 0.9723\n",
      "Epoch 33/100\n",
      "434/434 [==============================] - 1s 2ms/step - loss: 0.0895 - accuracy: 0.9739\n",
      "Epoch 34/100\n",
      "434/434 [==============================] - 2s 3ms/step - loss: 0.0891 - accuracy: 0.9733\n",
      "Epoch 35/100\n",
      "434/434 [==============================] - 1s 2ms/step - loss: 0.0886 - accuracy: 0.9733\n",
      "Epoch 36/100\n",
      "434/434 [==============================] - 1s 3ms/step - loss: 0.0881 - accuracy: 0.9741\n",
      "Epoch 37/100\n",
      "434/434 [==============================] - 1s 2ms/step - loss: 0.0874 - accuracy: 0.9735\n",
      "Epoch 38/100\n",
      "434/434 [==============================] - 2s 4ms/step - loss: 0.0868 - accuracy: 0.9748\n",
      "Epoch 39/100\n",
      "434/434 [==============================] - 1s 1ms/step - loss: 0.0862 - accuracy: 0.9752\n",
      "Epoch 40/100\n",
      "434/434 [==============================] - 1s 3ms/step - loss: 0.0852 - accuracy: 0.9742\n",
      "Epoch 41/100\n",
      "434/434 [==============================] - 1s 2ms/step - loss: 0.0850 - accuracy: 0.9756\n",
      "Epoch 42/100\n",
      "434/434 [==============================] - 1s 3ms/step - loss: 0.0841 - accuracy: 0.9750\n",
      "Epoch 43/100\n",
      "434/434 [==============================] - 1s 3ms/step - loss: 0.0837 - accuracy: 0.9752\n",
      "Epoch 44/100\n",
      "434/434 [==============================] - 1s 3ms/step - loss: 0.0828 - accuracy: 0.9741\n",
      "Epoch 45/100\n",
      "434/434 [==============================] - 2s 4ms/step - loss: 0.0822 - accuracy: 0.9750\n",
      "Epoch 46/100\n",
      "434/434 [==============================] - 1s 2ms/step - loss: 0.0818 - accuracy: 0.9750\n",
      "Epoch 47/100\n",
      "434/434 [==============================] - 1s 3ms/step - loss: 0.0815 - accuracy: 0.9750\n",
      "Epoch 48/100\n",
      "434/434 [==============================] - 2s 4ms/step - loss: 0.0806 - accuracy: 0.9744\n",
      "Epoch 49/100\n",
      "434/434 [==============================] - 1s 3ms/step - loss: 0.0801 - accuracy: 0.9748\n",
      "Epoch 50/100\n",
      "434/434 [==============================] - 1s 3ms/step - loss: 0.0795 - accuracy: 0.9748\n",
      "Epoch 51/100\n",
      "434/434 [==============================] - 1s 3ms/step - loss: 0.0791 - accuracy: 0.9746\n",
      "Epoch 52/100\n",
      "434/434 [==============================] - 1s 2ms/step - loss: 0.0790 - accuracy: 0.9752\n",
      "Epoch 53/100\n",
      "434/434 [==============================] - 1s 2ms/step - loss: 0.0779 - accuracy: 0.9744\n",
      "Epoch 54/100\n",
      "434/434 [==============================] - 1s 3ms/step - loss: 0.0778 - accuracy: 0.9746\n",
      "Epoch 55/100\n",
      "434/434 [==============================] - 1s 3ms/step - loss: 0.0770 - accuracy: 0.9754\n",
      "Epoch 56/100\n",
      "434/434 [==============================] - 2s 3ms/step - loss: 0.0765 - accuracy: 0.9752\n",
      "Epoch 57/100\n",
      "434/434 [==============================] - 1s 3ms/step - loss: 0.0760 - accuracy: 0.9746\n",
      "Epoch 58/100\n",
      "434/434 [==============================] - 1s 3ms/step - loss: 0.0755 - accuracy: 0.9758\n",
      "Epoch 59/100\n",
      "434/434 [==============================] - 1s 3ms/step - loss: 0.0748 - accuracy: 0.9748\n",
      "Epoch 60/100\n",
      "434/434 [==============================] - 1s 2ms/step - loss: 0.0750 - accuracy: 0.9754\n",
      "Epoch 61/100\n",
      "434/434 [==============================] - 1s 3ms/step - loss: 0.0739 - accuracy: 0.9748\n",
      "Epoch 62/100\n",
      "434/434 [==============================] - 1s 2ms/step - loss: 0.0736 - accuracy: 0.9752\n",
      "Epoch 63/100\n",
      "434/434 [==============================] - 1s 2ms/step - loss: 0.0731 - accuracy: 0.9758\n",
      "Epoch 64/100\n",
      "434/434 [==============================] - 1s 3ms/step - loss: 0.0724 - accuracy: 0.9756\n",
      "Epoch 65/100\n",
      "434/434 [==============================] - 2s 5ms/step - loss: 0.0719 - accuracy: 0.9758\n",
      "Epoch 66/100\n",
      "434/434 [==============================] - 1s 2ms/step - loss: 0.0716 - accuracy: 0.9756\n",
      "Epoch 67/100\n",
      "434/434 [==============================] - 1s 3ms/step - loss: 0.0712 - accuracy: 0.9764\n",
      "Epoch 68/100\n",
      "434/434 [==============================] - 1s 3ms/step - loss: 0.0706 - accuracy: 0.9756\n",
      "Epoch 69/100\n",
      "434/434 [==============================] - 1s 3ms/step - loss: 0.0704 - accuracy: 0.9758\n",
      "Epoch 70/100\n",
      "434/434 [==============================] - 1s 3ms/step - loss: 0.0698 - accuracy: 0.9760\n",
      "Epoch 71/100\n",
      "434/434 [==============================] - 1s 2ms/step - loss: 0.0695 - accuracy: 0.9756\n",
      "Epoch 72/100\n",
      "434/434 [==============================] - 2s 3ms/step - loss: 0.0691 - accuracy: 0.9758\n",
      "Epoch 73/100\n",
      "434/434 [==============================] - 1s 3ms/step - loss: 0.0684 - accuracy: 0.9764\n",
      "Epoch 74/100\n",
      "434/434 [==============================] - 1s 2ms/step - loss: 0.0681 - accuracy: 0.9764\n",
      "Epoch 75/100\n",
      "434/434 [==============================] - 1s 3ms/step - loss: 0.0676 - accuracy: 0.9760\n",
      "Epoch 76/100\n",
      "434/434 [==============================] - 1s 2ms/step - loss: 0.0669 - accuracy: 0.9766\n",
      "Epoch 77/100\n",
      "434/434 [==============================] - 1s 2ms/step - loss: 0.0668 - accuracy: 0.9773\n",
      "Epoch 78/100\n",
      "434/434 [==============================] - 1s 3ms/step - loss: 0.0658 - accuracy: 0.9775\n",
      "Epoch 79/100\n",
      "434/434 [==============================] - 1s 3ms/step - loss: 0.0656 - accuracy: 0.9767\n",
      "Epoch 80/100\n",
      "434/434 [==============================] - 1s 2ms/step - loss: 0.0652 - accuracy: 0.9767\n",
      "Epoch 81/100\n",
      "434/434 [==============================] - 1s 2ms/step - loss: 0.0646 - accuracy: 0.9779\n",
      "Epoch 82/100\n",
      "434/434 [==============================] - 1s 2ms/step - loss: 0.0644 - accuracy: 0.9779\n",
      "Epoch 83/100\n",
      "434/434 [==============================] - 2s 4ms/step - loss: 0.0639 - accuracy: 0.9779\n",
      "Epoch 84/100\n",
      "434/434 [==============================] - 1s 3ms/step - loss: 0.0635 - accuracy: 0.9783\n",
      "Epoch 85/100\n",
      "434/434 [==============================] - 1s 3ms/step - loss: 0.0630 - accuracy: 0.9771\n",
      "Epoch 86/100\n",
      "434/434 [==============================] - 1s 3ms/step - loss: 0.0620 - accuracy: 0.9781\n",
      "Epoch 87/100\n",
      "434/434 [==============================] - 1s 3ms/step - loss: 0.0619 - accuracy: 0.9775\n",
      "Epoch 88/100\n",
      "434/434 [==============================] - 1s 3ms/step - loss: 0.0615 - accuracy: 0.9789\n",
      "Epoch 89/100\n",
      "434/434 [==============================] - 1s 3ms/step - loss: 0.0611 - accuracy: 0.9787\n",
      "Epoch 90/100\n",
      "434/434 [==============================] - 1s 3ms/step - loss: 0.0605 - accuracy: 0.9791\n",
      "Epoch 91/100\n",
      "434/434 [==============================] - 1s 3ms/step - loss: 0.0604 - accuracy: 0.9792\n",
      "Epoch 92/100\n",
      "434/434 [==============================] - 1s 3ms/step - loss: 0.0599 - accuracy: 0.9808\n",
      "Epoch 93/100\n",
      "434/434 [==============================] - 1s 3ms/step - loss: 0.0600 - accuracy: 0.9791\n",
      "Epoch 94/100\n",
      "434/434 [==============================] - 1s 3ms/step - loss: 0.0593 - accuracy: 0.9808\n",
      "Epoch 95/100\n",
      "434/434 [==============================] - 2s 4ms/step - loss: 0.0591 - accuracy: 0.9798\n",
      "Epoch 96/100\n",
      "434/434 [==============================] - 1s 2ms/step - loss: 0.0585 - accuracy: 0.9806\n",
      "Epoch 97/100\n",
      "434/434 [==============================] - 2s 3ms/step - loss: 0.0576 - accuracy: 0.9815\n",
      "Epoch 98/100\n",
      "434/434 [==============================] - 1s 2ms/step - loss: 0.0577 - accuracy: 0.9810\n",
      "Epoch 99/100\n",
      "434/434 [==============================] - 2s 4ms/step - loss: 0.0565 - accuracy: 0.9810\n",
      "Epoch 100/100\n",
      "434/434 [==============================] - 2s 4ms/step - loss: 0.0568 - accuracy: 0.9814\n"
     ]
    },
    {
     "data": {
      "text/plain": [
       "<keras.callbacks.History at 0x7f27fc1cd870>"
      ]
     },
     "execution_count": 56,
     "metadata": {},
     "output_type": "execute_result"
    }
   ],
   "source": [
    "classifier.fit(X_train, y_train,  batch_size = 12, epochs =100)"
   ]
  },
  {
   "cell_type": "code",
   "execution_count": 60,
   "metadata": {},
   "outputs": [
    {
     "name": "stdout",
     "output_type": "stream",
     "text": [
      "41/41 [==============================] - 0s 1ms/step\n"
     ]
    }
   ],
   "source": [
    "y_pred  = classifier.predict(X_test)\n",
    "y_pred = (y_pred>0.5)"
   ]
  },
  {
   "cell_type": "code",
   "execution_count": 61,
   "metadata": {},
   "outputs": [
    {
     "name": "stdout",
     "output_type": "stream",
     "text": [
      "41/41 [==============================] - 0s 1ms/step - loss: 0.0743 - accuracy: 0.9808\n",
      "\n",
      "accuracy: 98.08%\n"
     ]
    }
   ],
   "source": [
    "scores = classifier.evaluate(X_test, y_test)\n",
    "print(\"\\n%s: %.2f%%\" % (classifier.metrics_names[1], scores[1]*100))"
   ]
  },
  {
   "cell_type": "code",
   "execution_count": 62,
   "metadata": {},
   "outputs": [
    {
     "data": {
      "text/plain": [
       "array([[712,   4],\n",
       "       [ 21, 564]])"
      ]
     },
     "execution_count": 62,
     "metadata": {},
     "output_type": "execute_result"
    }
   ],
   "source": [
    "from sklearn.metrics import confusion_matrix\n",
    "cm = confusion_matrix(y_test, y_pred)\n",
    "cm"
   ]
  }
 ],
 "metadata": {
  "kernelspec": {
   "display_name": "Python 3.10.6 64-bit",
   "language": "python",
   "name": "python3"
  },
  "language_info": {
   "codemirror_mode": {
    "name": "ipython",
    "version": 3
   },
   "file_extension": ".py",
   "mimetype": "text/x-python",
   "name": "python",
   "nbconvert_exporter": "python",
   "pygments_lexer": "ipython3",
   "version": "3.10.6"
  },
  "orig_nbformat": 4,
  "vscode": {
   "interpreter": {
    "hash": "916dbcbb3f70747c44a77c7bcd40155683ae19c65e1c03b4aa3499c5328201f1"
   }
  }
 },
 "nbformat": 4,
 "nbformat_minor": 2
}
