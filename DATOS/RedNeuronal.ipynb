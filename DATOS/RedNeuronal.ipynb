{
 "cells": [
  {
   "cell_type": "code",
   "execution_count": 2,
   "metadata": {},
   "outputs": [],
   "source": [
    "import numpy as np\n",
    "import pandas as pd"
   ]
  },
  {
   "cell_type": "code",
   "execution_count": 29,
   "metadata": {},
   "outputs": [],
   "source": [
    "dataset = pd.read_csv('./CompleteDataset.csv')\n",
    "X = dataset.iloc[:, :15].values\n",
    "y = dataset.iloc[:, 15].values"
   ]
  },
  {
   "cell_type": "code",
   "execution_count": 30,
   "metadata": {},
   "outputs": [],
   "source": [
    "from sklearn.model_selection import train_test_split\n",
    "X_train, X_test, y_train, y_test = train_test_split(X, y, test_size = 0.2, random_state = 0)"
   ]
  },
  {
   "cell_type": "code",
   "execution_count": 31,
   "metadata": {},
   "outputs": [],
   "source": [
    "from sklearn.preprocessing import StandardScaler\n",
    "sc_X = StandardScaler()\n",
    "X_train = sc_X.fit_transform(X_train)\n",
    "X_test = sc_X.transform(X_test)"
   ]
  },
  {
   "cell_type": "code",
   "execution_count": 32,
   "metadata": {},
   "outputs": [],
   "source": [
    "import keras\n",
    "from keras.models import Sequential\n",
    "from keras.layers import Dense, LSTM"
   ]
  },
  {
   "cell_type": "code",
   "execution_count": 33,
   "metadata": {},
   "outputs": [],
   "source": [
    "classifier = Sequential()"
   ]
  },
  {
   "cell_type": "code",
   "execution_count": 35,
   "metadata": {},
   "outputs": [],
   "source": [
    "classifier.add(LSTM(16, input_shape= (15, 1)))"
   ]
  },
  {
   "cell_type": "code",
   "execution_count": 36,
   "metadata": {},
   "outputs": [],
   "source": [
    "classifier.add(Dense(units = 6, kernel_initializer = \"uniform\",  activation = \"relu\"))"
   ]
  },
  {
   "cell_type": "code",
   "execution_count": 37,
   "metadata": {},
   "outputs": [],
   "source": [
    "classifier.add(Dense(units = 1, kernel_initializer = \"uniform\",  activation = \"sigmoid\"))"
   ]
  },
  {
   "cell_type": "code",
   "execution_count": 38,
   "metadata": {},
   "outputs": [],
   "source": [
    "classifier.compile(optimizer = \"adam\", loss = \"binary_crossentropy\", metrics = [\"accuracy\"])"
   ]
  },
  {
   "cell_type": "code",
   "execution_count": 39,
   "metadata": {},
   "outputs": [
    {
     "name": "stdout",
     "output_type": "stream",
     "text": [
      "Epoch 1/100\n",
      "434/434 [==============================] - 5s 5ms/step - loss: 0.4177 - accuracy: 0.8370\n",
      "Epoch 2/100\n",
      "434/434 [==============================] - 2s 5ms/step - loss: 0.2563 - accuracy: 0.8926\n",
      "Epoch 3/100\n",
      "434/434 [==============================] - 2s 5ms/step - loss: 0.2419 - accuracy: 0.8962\n",
      "Epoch 4/100\n",
      "434/434 [==============================] - 2s 5ms/step - loss: 0.2343 - accuracy: 0.8985\n",
      "Epoch 5/100\n",
      "434/434 [==============================] - 2s 5ms/step - loss: 0.2281 - accuracy: 0.9026\n",
      "Epoch 6/100\n",
      "434/434 [==============================] - 2s 5ms/step - loss: 0.2257 - accuracy: 0.9016\n",
      "Epoch 7/100\n",
      "434/434 [==============================] - 2s 5ms/step - loss: 0.2216 - accuracy: 0.9051\n",
      "Epoch 8/100\n",
      "434/434 [==============================] - 2s 5ms/step - loss: 0.2196 - accuracy: 0.9037\n",
      "Epoch 9/100\n",
      "434/434 [==============================] - 2s 5ms/step - loss: 0.2148 - accuracy: 0.9074\n",
      "Epoch 10/100\n",
      "434/434 [==============================] - 2s 5ms/step - loss: 0.2134 - accuracy: 0.9089\n",
      "Epoch 11/100\n",
      "434/434 [==============================] - 2s 5ms/step - loss: 0.2037 - accuracy: 0.9101\n",
      "Epoch 12/100\n",
      "434/434 [==============================] - 2s 5ms/step - loss: 0.1945 - accuracy: 0.9118\n",
      "Epoch 13/100\n",
      "434/434 [==============================] - 2s 5ms/step - loss: 0.1814 - accuracy: 0.9214\n",
      "Epoch 14/100\n",
      "434/434 [==============================] - 2s 5ms/step - loss: 0.1729 - accuracy: 0.9325\n",
      "Epoch 15/100\n",
      "434/434 [==============================] - 2s 5ms/step - loss: 0.1641 - accuracy: 0.9383\n",
      "Epoch 16/100\n",
      "434/434 [==============================] - 2s 5ms/step - loss: 0.1583 - accuracy: 0.9425\n",
      "Epoch 17/100\n",
      "434/434 [==============================] - 2s 5ms/step - loss: 0.1536 - accuracy: 0.9479\n",
      "Epoch 18/100\n",
      "434/434 [==============================] - 2s 5ms/step - loss: 0.1419 - accuracy: 0.9504\n",
      "Epoch 19/100\n",
      "434/434 [==============================] - 2s 5ms/step - loss: 0.1343 - accuracy: 0.9552\n",
      "Epoch 20/100\n",
      "434/434 [==============================] - 2s 5ms/step - loss: 0.1240 - accuracy: 0.9583\n",
      "Epoch 21/100\n",
      "434/434 [==============================] - 3s 6ms/step - loss: 0.1159 - accuracy: 0.9608\n",
      "Epoch 22/100\n",
      "434/434 [==============================] - 2s 5ms/step - loss: 0.1068 - accuracy: 0.9621\n",
      "Epoch 23/100\n",
      "434/434 [==============================] - 2s 5ms/step - loss: 0.1022 - accuracy: 0.9656\n",
      "Epoch 24/100\n",
      "434/434 [==============================] - 3s 6ms/step - loss: 0.1045 - accuracy: 0.9633\n",
      "Epoch 25/100\n",
      "434/434 [==============================] - 3s 6ms/step - loss: 0.0934 - accuracy: 0.9664\n",
      "Epoch 26/100\n",
      "434/434 [==============================] - 2s 5ms/step - loss: 0.0889 - accuracy: 0.9681\n",
      "Epoch 27/100\n",
      "434/434 [==============================] - 2s 5ms/step - loss: 0.0886 - accuracy: 0.9691\n",
      "Epoch 28/100\n",
      "434/434 [==============================] - 2s 6ms/step - loss: 0.0827 - accuracy: 0.9706\n",
      "Epoch 29/100\n",
      "434/434 [==============================] - 2s 6ms/step - loss: 0.0867 - accuracy: 0.9723\n",
      "Epoch 30/100\n",
      "434/434 [==============================] - 2s 5ms/step - loss: 0.0815 - accuracy: 0.9729\n",
      "Epoch 31/100\n",
      "434/434 [==============================] - 2s 5ms/step - loss: 0.0759 - accuracy: 0.9735\n",
      "Epoch 32/100\n",
      "434/434 [==============================] - 2s 5ms/step - loss: 0.0729 - accuracy: 0.9754\n",
      "Epoch 33/100\n",
      "434/434 [==============================] - 2s 5ms/step - loss: 0.0710 - accuracy: 0.9775\n",
      "Epoch 34/100\n",
      "434/434 [==============================] - 2s 5ms/step - loss: 0.0738 - accuracy: 0.9764\n",
      "Epoch 35/100\n",
      "434/434 [==============================] - 2s 5ms/step - loss: 0.0740 - accuracy: 0.9756\n",
      "Epoch 36/100\n",
      "434/434 [==============================] - 2s 5ms/step - loss: 0.0670 - accuracy: 0.9789\n",
      "Epoch 37/100\n",
      "434/434 [==============================] - 2s 5ms/step - loss: 0.0643 - accuracy: 0.9794\n",
      "Epoch 38/100\n",
      "434/434 [==============================] - 2s 5ms/step - loss: 0.0651 - accuracy: 0.9785\n",
      "Epoch 39/100\n",
      "434/434 [==============================] - 2s 5ms/step - loss: 0.0673 - accuracy: 0.9787\n",
      "Epoch 40/100\n",
      "434/434 [==============================] - 2s 5ms/step - loss: 0.0664 - accuracy: 0.9783\n",
      "Epoch 41/100\n",
      "434/434 [==============================] - 2s 5ms/step - loss: 0.0604 - accuracy: 0.9804\n",
      "Epoch 42/100\n",
      "434/434 [==============================] - 2s 5ms/step - loss: 0.0624 - accuracy: 0.9810\n",
      "Epoch 43/100\n",
      "434/434 [==============================] - 2s 5ms/step - loss: 0.0583 - accuracy: 0.9802\n",
      "Epoch 44/100\n",
      "434/434 [==============================] - 2s 5ms/step - loss: 0.0671 - accuracy: 0.9779\n",
      "Epoch 45/100\n",
      "434/434 [==============================] - 2s 5ms/step - loss: 0.0588 - accuracy: 0.9794\n",
      "Epoch 46/100\n",
      "434/434 [==============================] - 2s 5ms/step - loss: 0.0549 - accuracy: 0.9827\n",
      "Epoch 47/100\n",
      "434/434 [==============================] - 2s 5ms/step - loss: 0.0600 - accuracy: 0.9792\n",
      "Epoch 48/100\n",
      "434/434 [==============================] - 2s 5ms/step - loss: 0.0534 - accuracy: 0.9823\n",
      "Epoch 49/100\n",
      "434/434 [==============================] - 2s 5ms/step - loss: 0.0610 - accuracy: 0.9791\n",
      "Epoch 50/100\n",
      "434/434 [==============================] - 2s 5ms/step - loss: 0.0544 - accuracy: 0.9804\n",
      "Epoch 51/100\n",
      "434/434 [==============================] - 2s 5ms/step - loss: 0.0556 - accuracy: 0.9810\n",
      "Epoch 52/100\n",
      "434/434 [==============================] - 2s 5ms/step - loss: 0.0668 - accuracy: 0.9760\n",
      "Epoch 53/100\n",
      "434/434 [==============================] - 2s 5ms/step - loss: 0.0509 - accuracy: 0.9835\n",
      "Epoch 54/100\n",
      "434/434 [==============================] - 2s 5ms/step - loss: 0.0516 - accuracy: 0.9821\n",
      "Epoch 55/100\n",
      "434/434 [==============================] - 2s 5ms/step - loss: 0.0516 - accuracy: 0.9823\n",
      "Epoch 56/100\n",
      "434/434 [==============================] - 2s 5ms/step - loss: 0.0471 - accuracy: 0.9837\n",
      "Epoch 57/100\n",
      "434/434 [==============================] - 2s 5ms/step - loss: 0.0520 - accuracy: 0.9833\n",
      "Epoch 58/100\n",
      "434/434 [==============================] - 2s 5ms/step - loss: 0.0468 - accuracy: 0.9839\n",
      "Epoch 59/100\n",
      "434/434 [==============================] - 2s 5ms/step - loss: 0.0487 - accuracy: 0.9829\n",
      "Epoch 60/100\n",
      "434/434 [==============================] - 2s 5ms/step - loss: 0.0530 - accuracy: 0.9814\n",
      "Epoch 61/100\n",
      "434/434 [==============================] - 2s 5ms/step - loss: 0.0467 - accuracy: 0.9831\n",
      "Epoch 62/100\n",
      "434/434 [==============================] - 2s 5ms/step - loss: 0.0451 - accuracy: 0.9835\n",
      "Epoch 63/100\n",
      "434/434 [==============================] - 2s 5ms/step - loss: 0.0430 - accuracy: 0.9839\n",
      "Epoch 64/100\n",
      "434/434 [==============================] - 2s 6ms/step - loss: 0.0456 - accuracy: 0.9827\n",
      "Epoch 65/100\n",
      "434/434 [==============================] - 2s 5ms/step - loss: 0.0447 - accuracy: 0.9839\n",
      "Epoch 66/100\n",
      "434/434 [==============================] - 2s 5ms/step - loss: 0.0426 - accuracy: 0.9848\n",
      "Epoch 67/100\n",
      "434/434 [==============================] - 2s 5ms/step - loss: 0.0514 - accuracy: 0.9815\n",
      "Epoch 68/100\n",
      "434/434 [==============================] - 2s 5ms/step - loss: 0.0423 - accuracy: 0.9858\n",
      "Epoch 69/100\n",
      "434/434 [==============================] - 2s 5ms/step - loss: 0.0463 - accuracy: 0.9833\n",
      "Epoch 70/100\n",
      "434/434 [==============================] - 2s 5ms/step - loss: 0.0498 - accuracy: 0.9819\n",
      "Epoch 71/100\n",
      "434/434 [==============================] - 2s 5ms/step - loss: 0.0397 - accuracy: 0.9862\n",
      "Epoch 72/100\n",
      "434/434 [==============================] - 2s 5ms/step - loss: 0.0376 - accuracy: 0.9865\n",
      "Epoch 73/100\n",
      "434/434 [==============================] - 2s 5ms/step - loss: 0.0409 - accuracy: 0.9840\n",
      "Epoch 74/100\n",
      "434/434 [==============================] - 2s 5ms/step - loss: 0.0378 - accuracy: 0.9869\n",
      "Epoch 75/100\n",
      "434/434 [==============================] - 2s 6ms/step - loss: 0.0363 - accuracy: 0.9873\n",
      "Epoch 76/100\n",
      "434/434 [==============================] - 2s 5ms/step - loss: 0.0477 - accuracy: 0.9827\n",
      "Epoch 77/100\n",
      "434/434 [==============================] - 2s 5ms/step - loss: 0.0382 - accuracy: 0.9856\n",
      "Epoch 78/100\n",
      "434/434 [==============================] - 2s 5ms/step - loss: 0.0359 - accuracy: 0.9865\n",
      "Epoch 79/100\n",
      "434/434 [==============================] - 2s 5ms/step - loss: 0.0402 - accuracy: 0.9848\n",
      "Epoch 80/100\n",
      "434/434 [==============================] - 2s 5ms/step - loss: 0.0384 - accuracy: 0.9864\n",
      "Epoch 81/100\n",
      "434/434 [==============================] - 2s 5ms/step - loss: 0.0342 - accuracy: 0.9869\n",
      "Epoch 82/100\n",
      "434/434 [==============================] - 2s 5ms/step - loss: 0.0324 - accuracy: 0.9885\n",
      "Epoch 83/100\n",
      "434/434 [==============================] - 2s 5ms/step - loss: 0.0283 - accuracy: 0.9892\n",
      "Epoch 84/100\n",
      "434/434 [==============================] - 2s 5ms/step - loss: 0.0286 - accuracy: 0.9894\n",
      "Epoch 85/100\n",
      "434/434 [==============================] - 2s 5ms/step - loss: 0.0492 - accuracy: 0.9837\n",
      "Epoch 86/100\n",
      "434/434 [==============================] - 3s 6ms/step - loss: 0.0351 - accuracy: 0.9875\n",
      "Epoch 87/100\n",
      "434/434 [==============================] - 2s 6ms/step - loss: 0.0292 - accuracy: 0.9894\n",
      "Epoch 88/100\n",
      "434/434 [==============================] - 2s 6ms/step - loss: 0.0319 - accuracy: 0.9881\n",
      "Epoch 89/100\n",
      "434/434 [==============================] - 3s 6ms/step - loss: 0.0359 - accuracy: 0.9877\n",
      "Epoch 90/100\n",
      "434/434 [==============================] - 2s 5ms/step - loss: 0.0411 - accuracy: 0.9865\n",
      "Epoch 91/100\n",
      "434/434 [==============================] - 2s 6ms/step - loss: 0.0326 - accuracy: 0.9881\n",
      "Epoch 92/100\n",
      "434/434 [==============================] - 2s 6ms/step - loss: 0.0324 - accuracy: 0.9877\n",
      "Epoch 93/100\n",
      "434/434 [==============================] - 2s 5ms/step - loss: 0.0297 - accuracy: 0.9889\n",
      "Epoch 94/100\n",
      "434/434 [==============================] - 2s 5ms/step - loss: 0.0266 - accuracy: 0.9898\n",
      "Epoch 95/100\n",
      "434/434 [==============================] - 2s 5ms/step - loss: 0.0272 - accuracy: 0.9902\n",
      "Epoch 96/100\n",
      "434/434 [==============================] - 2s 5ms/step - loss: 0.0456 - accuracy: 0.9865\n",
      "Epoch 97/100\n",
      "434/434 [==============================] - 2s 5ms/step - loss: 0.0260 - accuracy: 0.9906\n",
      "Epoch 98/100\n",
      "434/434 [==============================] - 2s 5ms/step - loss: 0.0267 - accuracy: 0.9902\n",
      "Epoch 99/100\n",
      "434/434 [==============================] - 2s 5ms/step - loss: 0.0333 - accuracy: 0.9894\n",
      "Epoch 100/100\n",
      "434/434 [==============================] - 3s 6ms/step - loss: 0.0293 - accuracy: 0.9887\n"
     ]
    },
    {
     "data": {
      "text/plain": [
       "<keras.callbacks.History at 0x1145d4db940>"
      ]
     },
     "execution_count": 39,
     "metadata": {},
     "output_type": "execute_result"
    }
   ],
   "source": [
    "classifier.fit(X_train, y_train,  batch_size = 12, epochs =100)"
   ]
  },
  {
   "cell_type": "code",
   "execution_count": 24,
   "metadata": {},
   "outputs": [
    {
     "name": "stdout",
     "output_type": "stream",
     "text": [
      "41/41 [==============================] - 1s 5ms/step\n",
      "[[0.00778875]\n",
      " [0.00140031]\n",
      " [0.99992687]\n",
      " ...\n",
      " [0.0013378 ]\n",
      " [1.        ]\n",
      " [0.99999994]]\n",
      "[[-0.62067614  1.53895386 -0.01622185 ...  1.56397623 -0.01319161\n",
      "   0.        ]\n",
      " [-0.58292052  1.59103577 -0.05996998 ...  0.65034955  0.7005273\n",
      "   0.        ]\n",
      " [ 1.54986731 -0.81284803 -0.20700124 ...  1.56397623  1.77110568\n",
      "   0.        ]\n",
      " ...\n",
      " [ 0.43464404 -1.00040612 -0.61047473 ...  0.95489178 -1.20272314\n",
      "   0.        ]\n",
      " [-0.65434776 -0.54987575  0.374125   ... -1.17690382  0.81948045\n",
      "   0.        ]\n",
      " [-1.55037885 -1.03700503  1.10756809 ...  0.95489178 -1.32167629\n",
      "   0.        ]]\n"
     ]
    }
   ],
   "source": [
    "y_pred  = classifier.predict(X_test)\n",
    "print(y_pred)\n",
    "print(X_test)"
   ]
  },
  {
   "cell_type": "code",
   "execution_count": 25,
   "metadata": {},
   "outputs": [
    {
     "name": "stdout",
     "output_type": "stream",
     "text": [
      "41/41 [==============================] - 1s 5ms/step - loss: 0.0706 - accuracy: 0.9846\n",
      "\n",
      "accuracy: 98.46%\n"
     ]
    }
   ],
   "source": [
    "scores = classifier.evaluate(X_test, y_test)\n",
    "print(\"\\n%s: %.2f%%\" % (classifier.metrics_names[1], scores[1]*100))"
   ]
  },
  {
   "cell_type": "code",
   "execution_count": 26,
   "metadata": {},
   "outputs": [
    {
     "ename": "ValueError",
     "evalue": "Classification metrics can't handle a mix of binary and continuous targets",
     "output_type": "error",
     "traceback": [
      "\u001b[1;31m---------------------------------------------------------------------------\u001b[0m",
      "\u001b[1;31mValueError\u001b[0m                                Traceback (most recent call last)",
      "Cell \u001b[1;32mIn [26], line 2\u001b[0m\n\u001b[0;32m      1\u001b[0m \u001b[39mfrom\u001b[39;00m \u001b[39msklearn\u001b[39;00m\u001b[39m.\u001b[39;00m\u001b[39mmetrics\u001b[39;00m \u001b[39mimport\u001b[39;00m confusion_matrix\n\u001b[1;32m----> 2\u001b[0m cm \u001b[39m=\u001b[39m confusion_matrix(y_test, y_pred)\n\u001b[0;32m      3\u001b[0m cm\n",
      "File \u001b[1;32m~\\AppData\\Local\\Packages\\PythonSoftwareFoundation.Python.3.10_qbz5n2kfra8p0\\LocalCache\\local-packages\\Python310\\site-packages\\sklearn\\metrics\\_classification.py:317\u001b[0m, in \u001b[0;36mconfusion_matrix\u001b[1;34m(y_true, y_pred, labels, sample_weight, normalize)\u001b[0m\n\u001b[0;32m    232\u001b[0m \u001b[39mdef\u001b[39;00m \u001b[39mconfusion_matrix\u001b[39m(\n\u001b[0;32m    233\u001b[0m     y_true, y_pred, \u001b[39m*\u001b[39m, labels\u001b[39m=\u001b[39m\u001b[39mNone\u001b[39;00m, sample_weight\u001b[39m=\u001b[39m\u001b[39mNone\u001b[39;00m, normalize\u001b[39m=\u001b[39m\u001b[39mNone\u001b[39;00m\n\u001b[0;32m    234\u001b[0m ):\n\u001b[0;32m    235\u001b[0m     \u001b[39m\"\"\"Compute confusion matrix to evaluate the accuracy of a classification.\u001b[39;00m\n\u001b[0;32m    236\u001b[0m \n\u001b[0;32m    237\u001b[0m \u001b[39m    By definition a confusion matrix :math:`C` is such that :math:`C_{i, j}`\u001b[39;00m\n\u001b[1;32m   (...)\u001b[0m\n\u001b[0;32m    315\u001b[0m \u001b[39m    (0, 2, 1, 1)\u001b[39;00m\n\u001b[0;32m    316\u001b[0m \u001b[39m    \"\"\"\u001b[39;00m\n\u001b[1;32m--> 317\u001b[0m     y_type, y_true, y_pred \u001b[39m=\u001b[39m _check_targets(y_true, y_pred)\n\u001b[0;32m    318\u001b[0m     \u001b[39mif\u001b[39;00m y_type \u001b[39mnot\u001b[39;00m \u001b[39min\u001b[39;00m (\u001b[39m\"\u001b[39m\u001b[39mbinary\u001b[39m\u001b[39m\"\u001b[39m, \u001b[39m\"\u001b[39m\u001b[39mmulticlass\u001b[39m\u001b[39m\"\u001b[39m):\n\u001b[0;32m    319\u001b[0m         \u001b[39mraise\u001b[39;00m \u001b[39mValueError\u001b[39;00m(\u001b[39m\"\u001b[39m\u001b[39m%s\u001b[39;00m\u001b[39m is not supported\u001b[39m\u001b[39m\"\u001b[39m \u001b[39m%\u001b[39m y_type)\n",
      "File \u001b[1;32m~\\AppData\\Local\\Packages\\PythonSoftwareFoundation.Python.3.10_qbz5n2kfra8p0\\LocalCache\\local-packages\\Python310\\site-packages\\sklearn\\metrics\\_classification.py:95\u001b[0m, in \u001b[0;36m_check_targets\u001b[1;34m(y_true, y_pred)\u001b[0m\n\u001b[0;32m     92\u001b[0m     y_type \u001b[39m=\u001b[39m {\u001b[39m\"\u001b[39m\u001b[39mmulticlass\u001b[39m\u001b[39m\"\u001b[39m}\n\u001b[0;32m     94\u001b[0m \u001b[39mif\u001b[39;00m \u001b[39mlen\u001b[39m(y_type) \u001b[39m>\u001b[39m \u001b[39m1\u001b[39m:\n\u001b[1;32m---> 95\u001b[0m     \u001b[39mraise\u001b[39;00m \u001b[39mValueError\u001b[39;00m(\n\u001b[0;32m     96\u001b[0m         \u001b[39m\"\u001b[39m\u001b[39mClassification metrics can\u001b[39m\u001b[39m'\u001b[39m\u001b[39mt handle a mix of \u001b[39m\u001b[39m{0}\u001b[39;00m\u001b[39m and \u001b[39m\u001b[39m{1}\u001b[39;00m\u001b[39m targets\u001b[39m\u001b[39m\"\u001b[39m\u001b[39m.\u001b[39mformat(\n\u001b[0;32m     97\u001b[0m             type_true, type_pred\n\u001b[0;32m     98\u001b[0m         )\n\u001b[0;32m     99\u001b[0m     )\n\u001b[0;32m    101\u001b[0m \u001b[39m# We can't have more than one value on y_type => The set is no more needed\u001b[39;00m\n\u001b[0;32m    102\u001b[0m y_type \u001b[39m=\u001b[39m y_type\u001b[39m.\u001b[39mpop()\n",
      "\u001b[1;31mValueError\u001b[0m: Classification metrics can't handle a mix of binary and continuous targets"
     ]
    }
   ],
   "source": [
    "from sklearn.metrics import confusion_matrix\n",
    "cm = confusion_matrix(y_test, y_pred)\n",
    "cm"
   ]
  },
  {
   "cell_type": "code",
   "execution_count": 27,
   "metadata": {},
   "outputs": [],
   "source": [
    "classifier.save('model2.h5')"
   ]
  }
 ],
 "metadata": {
  "kernelspec": {
   "display_name": "Python 3",
   "language": "python",
   "name": "python3"
  },
  "language_info": {
   "codemirror_mode": {
    "name": "ipython",
    "version": 3
   },
   "file_extension": ".py",
   "mimetype": "text/x-python",
   "name": "python",
   "nbconvert_exporter": "python",
   "pygments_lexer": "ipython3",
   "version": "3.10.10"
  },
  "orig_nbformat": 4,
  "vscode": {
   "interpreter": {
    "hash": "85aece5883f23cf93a903b25fd3f6a5833dab6da9d10cf403dbbc785be5e4181"
   }
  }
 },
 "nbformat": 4,
 "nbformat_minor": 2
}
