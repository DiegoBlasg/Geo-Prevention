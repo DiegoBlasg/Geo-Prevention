{
 "cells": [
  {
   "cell_type": "code",
   "execution_count": 1,
   "metadata": {},
   "outputs": [],
   "source": [
    "import numpy as np\n",
    "import matplotlib.pyplot as plt\n",
    "import pandas as pd"
   ]
  },
  {
   "cell_type": "code",
   "execution_count": 2,
   "metadata": {},
   "outputs": [],
   "source": [
    "dataset = pd.read_csv('./CompleteDataset.csv')\n",
    "X = dataset.iloc[:, :15].values\n",
    "y = dataset.iloc[:, 15].values"
   ]
  },
  {
   "cell_type": "code",
   "execution_count": 3,
   "metadata": {},
   "outputs": [],
   "source": [
    "from sklearn.model_selection import train_test_split\n",
    "X_train, X_test, y_train, y_test = train_test_split(X, y, test_size = 0.2, random_state = 0)"
   ]
  },
  {
   "cell_type": "code",
   "execution_count": 4,
   "metadata": {},
   "outputs": [],
   "source": [
    "from sklearn.preprocessing import StandardScaler\n",
    "sc_X = StandardScaler()\n",
    "X_train = sc_X.fit_transform(X_train)\n",
    "X_test = sc_X.transform(X_test)"
   ]
  },
  {
   "cell_type": "code",
   "execution_count": 6,
   "metadata": {},
   "outputs": [],
   "source": [
    "import keras\n",
    "from keras.models import Sequential\n",
    "from keras.layers import Dense"
   ]
  },
  {
   "cell_type": "code",
   "execution_count": 7,
   "metadata": {},
   "outputs": [
    {
     "name": "stderr",
     "output_type": "stream",
     "text": [
      "2023-02-13 11:09:41.633077: W tensorflow/compiler/xla/stream_executor/platform/default/dso_loader.cc:64] Could not load dynamic library 'libcuda.so.1'; dlerror: libcuda.so.1: cannot open shared object file: No such file or directory\n",
      "2023-02-13 11:09:41.633100: W tensorflow/compiler/xla/stream_executor/cuda/cuda_driver.cc:265] failed call to cuInit: UNKNOWN ERROR (303)\n",
      "2023-02-13 11:09:41.633132: I tensorflow/compiler/xla/stream_executor/cuda/cuda_diagnostics.cc:156] kernel driver does not appear to be running on this host (diego): /proc/driver/nvidia/version does not exist\n",
      "2023-02-13 11:09:41.633325: I tensorflow/core/platform/cpu_feature_guard.cc:193] This TensorFlow binary is optimized with oneAPI Deep Neural Network Library (oneDNN) to use the following CPU instructions in performance-critical operations:  AVX2 FMA\n",
      "To enable them in other operations, rebuild TensorFlow with the appropriate compiler flags.\n"
     ]
    }
   ],
   "source": [
    "classifier = Sequential()"
   ]
  },
  {
   "cell_type": "code",
   "execution_count": 8,
   "metadata": {},
   "outputs": [],
   "source": [
    "classifier.add(Dense(units = 12, kernel_initializer = \"uniform\",  \n",
    "                     activation = \"sigmoid\", input_dim = 15))"
   ]
  },
  {
   "cell_type": "code",
   "execution_count": 9,
   "metadata": {},
   "outputs": [],
   "source": [
    "classifier.add(Dense(units = 6, kernel_initializer = \"uniform\",  activation = \"relu\"))"
   ]
  },
  {
   "cell_type": "code",
   "execution_count": 10,
   "metadata": {},
   "outputs": [],
   "source": [
    "classifier.add(Dense(units = 1, kernel_initializer = \"uniform\",  activation = \"sigmoid\"))"
   ]
  },
  {
   "cell_type": "code",
   "execution_count": 11,
   "metadata": {},
   "outputs": [],
   "source": [
    "classifier.compile(optimizer = \"adam\", loss = \"binary_crossentropy\", metrics = [\"accuracy\"])"
   ]
  },
  {
   "cell_type": "code",
   "execution_count": 12,
   "metadata": {},
   "outputs": [
    {
     "name": "stdout",
     "output_type": "stream",
     "text": [
      "Epoch 1/100\n",
      "434/434 [==============================] - 2s 1ms/step - loss: 0.4974 - accuracy: 0.7890\n",
      "Epoch 2/100\n",
      "434/434 [==============================] - 1s 1ms/step - loss: 0.1636 - accuracy: 0.9529\n",
      "Epoch 3/100\n",
      "434/434 [==============================] - 1s 1ms/step - loss: 0.1252 - accuracy: 0.9598\n",
      "Epoch 4/100\n",
      "434/434 [==============================] - 0s 1ms/step - loss: 0.1156 - accuracy: 0.9618\n",
      "Epoch 5/100\n",
      "434/434 [==============================] - 0s 1ms/step - loss: 0.1117 - accuracy: 0.9637\n",
      "Epoch 6/100\n",
      "434/434 [==============================] - 0s 1ms/step - loss: 0.1085 - accuracy: 0.9643\n",
      "Epoch 7/100\n",
      "434/434 [==============================] - 1s 1ms/step - loss: 0.1068 - accuracy: 0.9643\n",
      "Epoch 8/100\n",
      "434/434 [==============================] - 0s 1ms/step - loss: 0.1053 - accuracy: 0.9656\n",
      "Epoch 9/100\n",
      "434/434 [==============================] - 1s 1ms/step - loss: 0.1042 - accuracy: 0.9666\n",
      "Epoch 10/100\n",
      "434/434 [==============================] - 0s 1ms/step - loss: 0.1028 - accuracy: 0.9675\n",
      "Epoch 11/100\n",
      "434/434 [==============================] - 0s 1ms/step - loss: 0.1024 - accuracy: 0.9679\n",
      "Epoch 12/100\n",
      "434/434 [==============================] - 1s 1ms/step - loss: 0.1014 - accuracy: 0.9677\n",
      "Epoch 13/100\n",
      "434/434 [==============================] - 0s 1ms/step - loss: 0.1008 - accuracy: 0.9687\n",
      "Epoch 14/100\n",
      "434/434 [==============================] - 0s 1ms/step - loss: 0.0999 - accuracy: 0.9691\n",
      "Epoch 15/100\n",
      "434/434 [==============================] - 0s 1ms/step - loss: 0.0998 - accuracy: 0.9677\n",
      "Epoch 16/100\n",
      "434/434 [==============================] - 0s 1ms/step - loss: 0.0994 - accuracy: 0.9694\n",
      "Epoch 17/100\n",
      "434/434 [==============================] - 0s 1ms/step - loss: 0.0990 - accuracy: 0.9689\n",
      "Epoch 18/100\n",
      "434/434 [==============================] - 0s 1ms/step - loss: 0.0987 - accuracy: 0.9692\n",
      "Epoch 19/100\n",
      "434/434 [==============================] - 0s 1ms/step - loss: 0.0979 - accuracy: 0.9704\n",
      "Epoch 20/100\n",
      "434/434 [==============================] - 0s 1ms/step - loss: 0.0984 - accuracy: 0.9696\n",
      "Epoch 21/100\n",
      "434/434 [==============================] - 0s 1ms/step - loss: 0.0977 - accuracy: 0.9700\n",
      "Epoch 22/100\n",
      "434/434 [==============================] - 1s 1ms/step - loss: 0.0975 - accuracy: 0.9689\n",
      "Epoch 23/100\n",
      "434/434 [==============================] - 0s 1ms/step - loss: 0.0971 - accuracy: 0.9702\n",
      "Epoch 24/100\n",
      "434/434 [==============================] - 1s 1ms/step - loss: 0.0970 - accuracy: 0.9689\n",
      "Epoch 25/100\n",
      "434/434 [==============================] - 0s 1ms/step - loss: 0.0969 - accuracy: 0.9692\n",
      "Epoch 26/100\n",
      "434/434 [==============================] - 0s 1ms/step - loss: 0.0968 - accuracy: 0.9689\n",
      "Epoch 27/100\n",
      "434/434 [==============================] - 0s 1ms/step - loss: 0.0964 - accuracy: 0.9687\n",
      "Epoch 28/100\n",
      "434/434 [==============================] - 1s 1ms/step - loss: 0.0962 - accuracy: 0.9698\n",
      "Epoch 29/100\n",
      "434/434 [==============================] - 0s 1ms/step - loss: 0.0959 - accuracy: 0.9698\n",
      "Epoch 30/100\n",
      "434/434 [==============================] - 0s 1ms/step - loss: 0.0957 - accuracy: 0.9700\n",
      "Epoch 31/100\n",
      "434/434 [==============================] - 1s 1ms/step - loss: 0.0955 - accuracy: 0.9696\n",
      "Epoch 32/100\n",
      "434/434 [==============================] - 1s 1ms/step - loss: 0.0953 - accuracy: 0.9687\n",
      "Epoch 33/100\n",
      "434/434 [==============================] - 1s 1ms/step - loss: 0.0952 - accuracy: 0.9704\n",
      "Epoch 34/100\n",
      "434/434 [==============================] - 0s 1ms/step - loss: 0.0947 - accuracy: 0.9704\n",
      "Epoch 35/100\n",
      "434/434 [==============================] - 1s 1ms/step - loss: 0.0944 - accuracy: 0.9706\n",
      "Epoch 36/100\n",
      "434/434 [==============================] - 1s 1ms/step - loss: 0.0941 - accuracy: 0.9708\n",
      "Epoch 37/100\n",
      "434/434 [==============================] - 1s 1ms/step - loss: 0.0940 - accuracy: 0.9708\n",
      "Epoch 38/100\n",
      "434/434 [==============================] - 1s 1ms/step - loss: 0.0932 - accuracy: 0.9700\n",
      "Epoch 39/100\n",
      "434/434 [==============================] - 1s 1ms/step - loss: 0.0930 - accuracy: 0.9710\n",
      "Epoch 40/100\n",
      "434/434 [==============================] - 0s 1ms/step - loss: 0.0926 - accuracy: 0.9700\n",
      "Epoch 41/100\n",
      "434/434 [==============================] - 1s 1ms/step - loss: 0.0921 - accuracy: 0.9716\n",
      "Epoch 42/100\n",
      "434/434 [==============================] - 1s 1ms/step - loss: 0.0915 - accuracy: 0.9714\n",
      "Epoch 43/100\n",
      "434/434 [==============================] - 0s 1ms/step - loss: 0.0908 - accuracy: 0.9714\n",
      "Epoch 44/100\n",
      "434/434 [==============================] - 0s 1ms/step - loss: 0.0907 - accuracy: 0.9719\n",
      "Epoch 45/100\n",
      "434/434 [==============================] - 1s 1ms/step - loss: 0.0894 - accuracy: 0.9727\n",
      "Epoch 46/100\n",
      "434/434 [==============================] - 1s 1ms/step - loss: 0.0890 - accuracy: 0.9706\n",
      "Epoch 47/100\n",
      "434/434 [==============================] - 0s 1ms/step - loss: 0.0884 - accuracy: 0.9716\n",
      "Epoch 48/100\n",
      "434/434 [==============================] - 1s 1ms/step - loss: 0.0875 - accuracy: 0.9725\n",
      "Epoch 49/100\n",
      "434/434 [==============================] - 1s 1ms/step - loss: 0.0863 - accuracy: 0.9725\n",
      "Epoch 50/100\n",
      "434/434 [==============================] - 0s 1ms/step - loss: 0.0857 - accuracy: 0.9727\n",
      "Epoch 51/100\n",
      "434/434 [==============================] - 1s 1ms/step - loss: 0.0848 - accuracy: 0.9737\n",
      "Epoch 52/100\n",
      "434/434 [==============================] - 1s 1ms/step - loss: 0.0842 - accuracy: 0.9727\n",
      "Epoch 53/100\n",
      "434/434 [==============================] - 1s 1ms/step - loss: 0.0833 - accuracy: 0.9729\n",
      "Epoch 54/100\n",
      "434/434 [==============================] - 0s 1ms/step - loss: 0.0824 - accuracy: 0.9741\n",
      "Epoch 55/100\n",
      "434/434 [==============================] - 1s 1ms/step - loss: 0.0813 - accuracy: 0.9739\n",
      "Epoch 56/100\n",
      "434/434 [==============================] - 1s 1ms/step - loss: 0.0808 - accuracy: 0.9741\n",
      "Epoch 57/100\n",
      "434/434 [==============================] - 1s 1ms/step - loss: 0.0804 - accuracy: 0.9741\n",
      "Epoch 58/100\n",
      "434/434 [==============================] - 1s 1ms/step - loss: 0.0793 - accuracy: 0.9744\n",
      "Epoch 59/100\n",
      "434/434 [==============================] - 1s 1ms/step - loss: 0.0788 - accuracy: 0.9748\n",
      "Epoch 60/100\n",
      "434/434 [==============================] - 1s 1ms/step - loss: 0.0782 - accuracy: 0.9750\n",
      "Epoch 61/100\n",
      "434/434 [==============================] - 1s 1ms/step - loss: 0.0774 - accuracy: 0.9752\n",
      "Epoch 62/100\n",
      "434/434 [==============================] - 1s 1ms/step - loss: 0.0770 - accuracy: 0.9754\n",
      "Epoch 63/100\n",
      "434/434 [==============================] - 0s 1ms/step - loss: 0.0764 - accuracy: 0.9748\n",
      "Epoch 64/100\n",
      "434/434 [==============================] - 0s 1ms/step - loss: 0.0760 - accuracy: 0.9744\n",
      "Epoch 65/100\n",
      "434/434 [==============================] - 0s 1ms/step - loss: 0.0752 - accuracy: 0.9756\n",
      "Epoch 66/100\n",
      "434/434 [==============================] - 0s 1ms/step - loss: 0.0749 - accuracy: 0.9752\n",
      "Epoch 67/100\n",
      "434/434 [==============================] - 1s 1ms/step - loss: 0.0740 - accuracy: 0.9769\n",
      "Epoch 68/100\n",
      "434/434 [==============================] - 1s 1ms/step - loss: 0.0742 - accuracy: 0.9750\n",
      "Epoch 69/100\n",
      "434/434 [==============================] - 1s 1ms/step - loss: 0.0735 - accuracy: 0.9750\n",
      "Epoch 70/100\n",
      "434/434 [==============================] - 1s 1ms/step - loss: 0.0728 - accuracy: 0.9764\n",
      "Epoch 71/100\n",
      "434/434 [==============================] - 1s 1ms/step - loss: 0.0726 - accuracy: 0.9754\n",
      "Epoch 72/100\n",
      "434/434 [==============================] - 1s 1ms/step - loss: 0.0720 - accuracy: 0.9762\n",
      "Epoch 73/100\n",
      "434/434 [==============================] - 1s 1ms/step - loss: 0.0716 - accuracy: 0.9758\n",
      "Epoch 74/100\n",
      "434/434 [==============================] - 0s 1ms/step - loss: 0.0709 - accuracy: 0.9767\n",
      "Epoch 75/100\n",
      "434/434 [==============================] - 0s 1ms/step - loss: 0.0708 - accuracy: 0.9775\n",
      "Epoch 76/100\n",
      "434/434 [==============================] - 0s 1ms/step - loss: 0.0691 - accuracy: 0.9779\n",
      "Epoch 77/100\n",
      "434/434 [==============================] - 0s 982us/step - loss: 0.0698 - accuracy: 0.9766\n",
      "Epoch 78/100\n",
      "434/434 [==============================] - 0s 1ms/step - loss: 0.0687 - accuracy: 0.9781\n",
      "Epoch 79/100\n",
      "434/434 [==============================] - 0s 1ms/step - loss: 0.0684 - accuracy: 0.9771\n",
      "Epoch 80/100\n",
      "434/434 [==============================] - 0s 1ms/step - loss: 0.0675 - accuracy: 0.9773\n",
      "Epoch 81/100\n",
      "434/434 [==============================] - 0s 1ms/step - loss: 0.0675 - accuracy: 0.9777\n",
      "Epoch 82/100\n",
      "434/434 [==============================] - 0s 1ms/step - loss: 0.0669 - accuracy: 0.9779\n",
      "Epoch 83/100\n",
      "434/434 [==============================] - 0s 1ms/step - loss: 0.0665 - accuracy: 0.9781\n",
      "Epoch 84/100\n",
      "434/434 [==============================] - 0s 1ms/step - loss: 0.0660 - accuracy: 0.9783\n",
      "Epoch 85/100\n",
      "434/434 [==============================] - 1s 1ms/step - loss: 0.0657 - accuracy: 0.9783\n",
      "Epoch 86/100\n",
      "434/434 [==============================] - 1s 1ms/step - loss: 0.0648 - accuracy: 0.9787\n",
      "Epoch 87/100\n",
      "434/434 [==============================] - 0s 1ms/step - loss: 0.0651 - accuracy: 0.9787\n",
      "Epoch 88/100\n",
      "434/434 [==============================] - 1s 1ms/step - loss: 0.0644 - accuracy: 0.9791\n",
      "Epoch 89/100\n",
      "434/434 [==============================] - 0s 1ms/step - loss: 0.0644 - accuracy: 0.9773\n",
      "Epoch 90/100\n",
      "434/434 [==============================] - 1s 1ms/step - loss: 0.0640 - accuracy: 0.9781\n",
      "Epoch 91/100\n",
      "434/434 [==============================] - 1s 1ms/step - loss: 0.0632 - accuracy: 0.9785\n",
      "Epoch 92/100\n",
      "434/434 [==============================] - 1s 1ms/step - loss: 0.0628 - accuracy: 0.9789\n",
      "Epoch 93/100\n",
      "434/434 [==============================] - 1s 1ms/step - loss: 0.0627 - accuracy: 0.9792\n",
      "Epoch 94/100\n",
      "434/434 [==============================] - 0s 1ms/step - loss: 0.0621 - accuracy: 0.9783\n",
      "Epoch 95/100\n",
      "434/434 [==============================] - 1s 1ms/step - loss: 0.0623 - accuracy: 0.9792\n",
      "Epoch 96/100\n",
      "434/434 [==============================] - 1s 1ms/step - loss: 0.0616 - accuracy: 0.9785\n",
      "Epoch 97/100\n",
      "434/434 [==============================] - 1s 3ms/step - loss: 0.0611 - accuracy: 0.9794\n",
      "Epoch 98/100\n",
      "434/434 [==============================] - 1s 3ms/step - loss: 0.0606 - accuracy: 0.9796\n",
      "Epoch 99/100\n",
      "434/434 [==============================] - 1s 2ms/step - loss: 0.0609 - accuracy: 0.9800\n",
      "Epoch 100/100\n",
      "434/434 [==============================] - 1s 2ms/step - loss: 0.0601 - accuracy: 0.9789\n"
     ]
    },
    {
     "data": {
      "text/plain": [
       "<keras.callbacks.History at 0x7f16f37c6890>"
      ]
     },
     "execution_count": 12,
     "metadata": {},
     "output_type": "execute_result"
    }
   ],
   "source": [
    "classifier.fit(X_train, y_train,  batch_size = 12, epochs =100)"
   ]
  },
  {
   "cell_type": "code",
   "execution_count": 20,
   "metadata": {},
   "outputs": [
    {
     "name": "stdout",
     "output_type": "stream",
     "text": [
      "41/41 [==============================] - 0s 1ms/step\n",
      "[[0.49801788]\n",
      " [0.07094486]\n",
      " [0.99882334]\n",
      " ...\n",
      " [0.00474747]\n",
      " [0.9999571 ]\n",
      " [0.9999998 ]]\n",
      "[[-0.62067614  1.53895386 -0.01622185 ...  1.56397623 -0.01319161\n",
      "   0.        ]\n",
      " [-0.58292052  1.59103577 -0.05996998 ...  0.65034955  0.7005273\n",
      "   0.        ]\n",
      " [ 1.54986731 -0.81284803 -0.20700124 ...  1.56397623  1.77110568\n",
      "   0.        ]\n",
      " ...\n",
      " [ 0.43464404 -1.00040612 -0.61047473 ...  0.95489178 -1.20272314\n",
      "   0.        ]\n",
      " [-0.65434776 -0.54987575  0.374125   ... -1.17690382  0.81948045\n",
      "   0.        ]\n",
      " [-1.55037885 -1.03700503  1.10756809 ...  0.95489178 -1.32167629\n",
      "   0.        ]]\n"
     ]
    }
   ],
   "source": [
    "y_pred  = classifier.predict(X_test)\n",
    "print(y_pred)\n",
    "print(X_test)"
   ]
  },
  {
   "cell_type": "code",
   "execution_count": 14,
   "metadata": {},
   "outputs": [
    {
     "name": "stdout",
     "output_type": "stream",
     "text": [
      "41/41 [==============================] - 0s 1ms/step - loss: 0.0649 - accuracy: 0.9777\n",
      "\n",
      "accuracy: 97.77%\n"
     ]
    }
   ],
   "source": [
    "scores = classifier.evaluate(X_test, y_test)\n",
    "print(\"\\n%s: %.2f%%\" % (classifier.metrics_names[1], scores[1]*100))"
   ]
  },
  {
   "cell_type": "code",
   "execution_count": 15,
   "metadata": {},
   "outputs": [
    {
     "data": {
      "text/plain": [
       "array([[710,  10],\n",
       "       [ 19, 562]])"
      ]
     },
     "execution_count": 15,
     "metadata": {},
     "output_type": "execute_result"
    }
   ],
   "source": [
    "from sklearn.metrics import confusion_matrix\n",
    "cm = confusion_matrix(y_test, y_pred)\n",
    "cm"
   ]
  },
  {
   "cell_type": "code",
   "execution_count": 29,
   "metadata": {},
   "outputs": [],
   "source": [
    "classifier.save('model.h5')"
   ]
  }
 ],
 "metadata": {
  "kernelspec": {
   "display_name": "Python 3.10.6 64-bit",
   "language": "python",
   "name": "python3"
  },
  "language_info": {
   "codemirror_mode": {
    "name": "ipython",
    "version": 3
   },
   "file_extension": ".py",
   "mimetype": "text/x-python",
   "name": "python",
   "nbconvert_exporter": "python",
   "pygments_lexer": "ipython3",
   "version": "3.10.6"
  },
  "orig_nbformat": 4,
  "vscode": {
   "interpreter": {
    "hash": "916dbcbb3f70747c44a77c7bcd40155683ae19c65e1c03b4aa3499c5328201f1"
   }
  }
 },
 "nbformat": 4,
 "nbformat_minor": 2
}
