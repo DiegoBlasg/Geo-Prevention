{
 "cells": [
  {
   "cell_type": "code",
   "execution_count": 2,
   "metadata": {},
   "outputs": [],
   "source": [
    "from geopy.geocoders import Nominatim\n",
    "import numpy as np\n",
    "import pandas as pd"
   ]
  },
  {
   "cell_type": "code",
   "execution_count": null,
   "metadata": {},
   "outputs": [],
   "source": [
    "datasetEstaciones = pd.read_excel('./ListadoEstaciones-20190206.xlsx')\n",
    "datasetIncendios = pd.read_csv('./modis_2021_Spain_incendios.csv')\n",
    "datasetIncendios = datasetIncendios.iloc[:, [0,1,2,5]]\n",
    "\n",
    "aux = 0\n",
    "for di in range(len(datasetIncendios)):\n",
    "    print(f\"iteration {di} with date {datasetIncendios.iloc[di,3]}\")\n",
    "    if aux != datasetIncendios.iloc[di,3]:\n",
    "        print(f\"making Aemet2021-{datasetIncendios.iloc[di,3][5:]}.csv\")\n",
    "        datasetClima = pd.read_excel(f'./ClimaAemet2021/Aemet2021-{datasetIncendios.iloc[di,3][5:7]}/Aemet2021-{datasetIncendios.iloc[di,3][5:]}.xls')\n",
    "        datasetClima = datasetClima.iloc[4:,:]\n",
    "        datasetClima = datasetClima.assign(latitude =  np.zeros(len(datasetClima)))\n",
    "        datasetClima = datasetClima.assign(longitude = np.zeros(len(datasetClima)))\n",
    "        for dc in range(len(datasetClima)):\n",
    "            for de in range(len(datasetEstaciones)):\n",
    "                if datasetClima.iloc[dc,0].upper() == datasetEstaciones.iloc[de,2].upper():\n",
    "                    if datasetEstaciones.iloc[de,5][-1] == 'W':\n",
    "                        datasetClima.iloc[dc,-2] = int(datasetEstaciones.iloc[de,4][:2])+int(datasetEstaciones.iloc[de,4][2:4])/60 + int(datasetEstaciones.iloc[de,4][4:6])/3600\n",
    "                        datasetClima.iloc[dc,-1] = (int(datasetEstaciones.iloc[de,5][:2])+int(datasetEstaciones.iloc[de,5][2:4])/60 + int(datasetEstaciones.iloc[de,5][4:6])/3600)*-1\n",
    "                    else:\n",
    "                        datasetClima.iloc[dc,-2] = int(datasetEstaciones.iloc[de,4][:2])+int(datasetEstaciones.iloc[de,4][2:4])/60 + int(datasetEstaciones.iloc[de,4][4:6])/3600\n",
    "                        datasetClima.iloc[dc,-1] = (int(datasetEstaciones.iloc[de,5][:2])+int(datasetEstaciones.iloc[de,5][2:4])/60 + int(datasetEstaciones.iloc[de,5][4:6])/3600)\n",
    "                    break\n",
    "                else:\n",
    "                    try:\n",
    "                        geolocator = Nominatim(user_agent=\"zaragoza\") \n",
    "                        print(datasetClima.iloc[dc,0])\n",
    "                        location = geolocator.geocode(datasetClima.iloc[dc,0])\n",
    "                        print(location.latitude, location.longitude)\n",
    "                        datasetClima.iloc[dc,-2] = location.latitude\n",
    "                        datasetClima.iloc[dc,-1] = location.longitude\n",
    "                    except:\n",
    "                        print(\"ERROR\")\n",
    "                        datasetClima.iloc[dc,-2] = None\n",
    "                        datasetClima.iloc[dc,-1] = None\n",
    "                    finally:\n",
    "                        break\n",
    "        datasetClima = datasetClima.dropna()\n",
    "\n",
    "        datasetClima.columns = ['Estación', 'Provincia', 'Temperatura máxima (ºC)', 'Temperatura mínima (ºC)', 'Temperatura media (ºC)', 'Racha (km/h)', \n",
    "        'Velocidad máxima (km/h)', 'Precipitación 00-24h (mm)','Precipitación 00-06h (mm)', 'Precipitación 06-12h (mm)', 'Precipitación 12-18h (mm)' ,'Precipitación 18-24h (mm)', 'Latitude', 'Longitude']\n",
    "\n",
    "        datasetClima.to_csv(f'ClimaData/Aemet2021-{datasetIncendios.iloc[di,3][5:]}.csv',index=False)\n",
    "    aux = datasetIncendios.iloc[di,3]"
   ]
  },
  {
   "cell_type": "code",
   "execution_count": 3,
   "metadata": {},
   "outputs": [
    {
     "name": "stdout",
     "output_type": "stream",
     "text": [
      "43.7903123 -7.6882854\n"
     ]
    }
   ],
   "source": [
    "\n",
    "geolocator = Nominatim(user_agent=\"dieo\", ) \n",
    "location = geolocator.geocode(\"Estaca de Bares\")\n",
    "print(location.latitude, location.longitude)"
   ]
  }
 ],
 "metadata": {
  "kernelspec": {
   "display_name": "Python 3.10.6 64-bit",
   "language": "python",
   "name": "python3"
  },
  "language_info": {
   "codemirror_mode": {
    "name": "ipython",
    "version": 3
   },
   "file_extension": ".py",
   "mimetype": "text/x-python",
   "name": "python",
   "nbconvert_exporter": "python",
   "pygments_lexer": "ipython3",
   "version": "3.10.6"
  },
  "orig_nbformat": 4,
  "vscode": {
   "interpreter": {
    "hash": "916dbcbb3f70747c44a77c7bcd40155683ae19c65e1c03b4aa3499c5328201f1"
   }
  }
 },
 "nbformat": 4,
 "nbformat_minor": 2
}
